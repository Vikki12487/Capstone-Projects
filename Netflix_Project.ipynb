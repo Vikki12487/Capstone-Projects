{
  "nbformat": 4,
  "nbformat_minor": 0,
  "metadata": {
    "colab": {
      "provenance": []
    },
    "kernelspec": {
      "name": "python3",
      "display_name": "Python 3"
    },
    "language_info": {
      "name": "python"
    }
  },
  "cells": [
    {
      "cell_type": "markdown",
      "source": [
        "# Objective\n",
        "\n",
        "1.   Find Out the list of most popular and liked genre\n",
        "2.   Create a model that finds the best suited movie for  one user in every genre\n",
        "3.   Find what Genre Movies have received the best and worst ratings based on User ratings.\n",
        "\n"
      ],
      "metadata": {
        "id": "YmQ1_6CSu-bA"
      }
    },
    {
      "cell_type": "markdown",
      "source": [
        "  The following dataset has two files with movie and rating databases with ID, Rating, Genre, and Movie name."
      ],
      "metadata": {
        "id": "viekDA0Gv1n6"
      }
    },
    {
      "cell_type": "markdown",
      "source": [
        "The primary analysis shows that the collaborative analysis of the genre as per user ratings and hence we need to use recommendation style using SVD"
      ],
      "metadata": {
        "id": "kJvHM6FQwOSX"
      }
    },
    {
      "cell_type": "code",
      "source": [
        "# Import Libraries\n",
        "import pandas as pd\n",
        "import numpy as np\n",
        "import matplotlib.pyplot as plt\n",
        "import seaborn as sns\n",
        "from scipy.sparse.linalg import svds"
      ],
      "metadata": {
        "id": "8RJYHwBwu9hd"
      },
      "execution_count": null,
      "outputs": []
    },
    {
      "cell_type": "code",
      "source": [
        "# Import Datasets\n",
        "\n",
        "movies = pd.read_csv('movies.csv')\n",
        "ratings = pd.read_csv('ratings.csv')"
      ],
      "metadata": {
        "id": "nTybrFV8w0aJ"
      },
      "execution_count": null,
      "outputs": []
    },
    {
      "cell_type": "code",
      "source": [
        "movies.info() # Getting the information of Movies dataset"
      ],
      "metadata": {
        "id": "fViydxhZzEDC",
        "colab": {
          "base_uri": "https://localhost:8080/"
        },
        "outputId": "081dd6e7-7572-4546-dbcb-90027fdc1d89"
      },
      "execution_count": 15,
      "outputs": [
        {
          "output_type": "stream",
          "name": "stdout",
          "text": [
            "<class 'pandas.core.frame.DataFrame'>\n",
            "RangeIndex: 27278 entries, 0 to 27277\n",
            "Data columns (total 3 columns):\n",
            " #   Column   Non-Null Count  Dtype \n",
            "---  ------   --------------  ----- \n",
            " 0   movieId  27278 non-null  int64 \n",
            " 1   title    27278 non-null  object\n",
            " 2   genres   27278 non-null  object\n",
            "dtypes: int64(1), object(2)\n",
            "memory usage: 639.5+ KB\n"
          ]
        }
      ]
    },
    {
      "cell_type": "code",
      "source": [
        "ratings.info() # Getting the information of Ratings dataset"
      ],
      "metadata": {
        "colab": {
          "base_uri": "https://localhost:8080/"
        },
        "id": "0MiYDLdr7lr1",
        "outputId": "a09fb418-2e88-40f2-8e59-e1e2dd5896a4"
      },
      "execution_count": 20,
      "outputs": [
        {
          "output_type": "stream",
          "name": "stdout",
          "text": [
            "<class 'pandas.core.frame.DataFrame'>\n",
            "RangeIndex: 1048575 entries, 0 to 1048574\n",
            "Data columns (total 4 columns):\n",
            " #   Column     Non-Null Count    Dtype  \n",
            "---  ------     --------------    -----  \n",
            " 0   userId     1048575 non-null  int64  \n",
            " 1   movieId    1048575 non-null  int64  \n",
            " 2   rating     1048575 non-null  float64\n",
            " 3   timestamp  1048575 non-null  int64  \n",
            "dtypes: float64(1), int64(3)\n",
            "memory usage: 32.0 MB\n"
          ]
        }
      ]
    },
    {
      "cell_type": "code",
      "source": [
        "ratings.isnull().sum() # Check for null values"
      ],
      "metadata": {
        "colab": {
          "base_uri": "https://localhost:8080/",
          "height": 209
        },
        "id": "wJxPlPyp7oOu",
        "outputId": "b7eeeaac-621e-4f5d-8360-ecebfe8cb135"
      },
      "execution_count": 24,
      "outputs": [
        {
          "output_type": "execute_result",
          "data": {
            "text/plain": [
              "userId       0\n",
              "movieId      0\n",
              "rating       0\n",
              "timestamp    0\n",
              "dtype: int64"
            ],
            "text/html": [
              "<div>\n",
              "<style scoped>\n",
              "    .dataframe tbody tr th:only-of-type {\n",
              "        vertical-align: middle;\n",
              "    }\n",
              "\n",
              "    .dataframe tbody tr th {\n",
              "        vertical-align: top;\n",
              "    }\n",
              "\n",
              "    .dataframe thead th {\n",
              "        text-align: right;\n",
              "    }\n",
              "</style>\n",
              "<table border=\"1\" class=\"dataframe\">\n",
              "  <thead>\n",
              "    <tr style=\"text-align: right;\">\n",
              "      <th></th>\n",
              "      <th>0</th>\n",
              "    </tr>\n",
              "  </thead>\n",
              "  <tbody>\n",
              "    <tr>\n",
              "      <th>userId</th>\n",
              "      <td>0</td>\n",
              "    </tr>\n",
              "    <tr>\n",
              "      <th>movieId</th>\n",
              "      <td>0</td>\n",
              "    </tr>\n",
              "    <tr>\n",
              "      <th>rating</th>\n",
              "      <td>0</td>\n",
              "    </tr>\n",
              "    <tr>\n",
              "      <th>timestamp</th>\n",
              "      <td>0</td>\n",
              "    </tr>\n",
              "  </tbody>\n",
              "</table>\n",
              "</div><br><label><b>dtype:</b> int64</label>"
            ]
          },
          "metadata": {},
          "execution_count": 24
        }
      ]
    },
    {
      "cell_type": "code",
      "source": [
        "movies.isnull().sum() #Check for null values"
      ],
      "metadata": {
        "colab": {
          "base_uri": "https://localhost:8080/",
          "height": 178
        },
        "id": "-IWYIvnQ8Bsa",
        "outputId": "24a2c8ab-41ba-4fb6-f9a9-e33de46e069e"
      },
      "execution_count": 25,
      "outputs": [
        {
          "output_type": "execute_result",
          "data": {
            "text/plain": [
              "movieId    0\n",
              "title      0\n",
              "genres     0\n",
              "dtype: int64"
            ],
            "text/html": [
              "<div>\n",
              "<style scoped>\n",
              "    .dataframe tbody tr th:only-of-type {\n",
              "        vertical-align: middle;\n",
              "    }\n",
              "\n",
              "    .dataframe tbody tr th {\n",
              "        vertical-align: top;\n",
              "    }\n",
              "\n",
              "    .dataframe thead th {\n",
              "        text-align: right;\n",
              "    }\n",
              "</style>\n",
              "<table border=\"1\" class=\"dataframe\">\n",
              "  <thead>\n",
              "    <tr style=\"text-align: right;\">\n",
              "      <th></th>\n",
              "      <th>0</th>\n",
              "    </tr>\n",
              "  </thead>\n",
              "  <tbody>\n",
              "    <tr>\n",
              "      <th>movieId</th>\n",
              "      <td>0</td>\n",
              "    </tr>\n",
              "    <tr>\n",
              "      <th>title</th>\n",
              "      <td>0</td>\n",
              "    </tr>\n",
              "    <tr>\n",
              "      <th>genres</th>\n",
              "      <td>0</td>\n",
              "    </tr>\n",
              "  </tbody>\n",
              "</table>\n",
              "</div><br><label><b>dtype:</b> int64</label>"
            ]
          },
          "metadata": {},
          "execution_count": 25
        }
      ]
    },
    {
      "cell_type": "code",
      "source": [
        "movies.duplicated().sum() # Check for duplicate values"
      ],
      "metadata": {
        "colab": {
          "base_uri": "https://localhost:8080/"
        },
        "id": "E2ZwUgux8Ick",
        "outputId": "74978771-2e3a-4041-f731-5d453583f083"
      },
      "execution_count": 26,
      "outputs": [
        {
          "output_type": "execute_result",
          "data": {
            "text/plain": [
              "0"
            ]
          },
          "metadata": {},
          "execution_count": 26
        }
      ]
    },
    {
      "cell_type": "code",
      "source": [
        "ratings.duplicated().sum() # Check for duplicate values"
      ],
      "metadata": {
        "colab": {
          "base_uri": "https://localhost:8080/"
        },
        "id": "Fi9Ebuxy8OKk",
        "outputId": "9c3f6f5a-7aea-4cc0-ef25-c8f1d5ca063c"
      },
      "execution_count": 27,
      "outputs": [
        {
          "output_type": "execute_result",
          "data": {
            "text/plain": [
              "0"
            ]
          },
          "metadata": {},
          "execution_count": 27
        }
      ]
    },
    {
      "cell_type": "code",
      "source": [
        "# Merging two datasets\n",
        "df = pd.merge(movies, ratings, on='movieId')"
      ],
      "metadata": {
        "id": "NKfUEDzs8_CJ"
      },
      "execution_count": 28,
      "outputs": []
    },
    {
      "cell_type": "code",
      "source": [
        "user_movie_matrix = df.pivot_table(index='userId', columns='movieId', values='rating').fillna(0) #Create a user-movie matrix"
      ],
      "metadata": {
        "id": "sbnjNNEb9Idv"
      },
      "execution_count": 30,
      "outputs": []
    },
    {
      "cell_type": "code",
      "source": [
        "matrix = user_movie_matrix.values # Conversion of matrix to numpy array"
      ],
      "metadata": {
        "id": "altKZH1Y9fYO"
      },
      "execution_count": 31,
      "outputs": []
    },
    {
      "cell_type": "code",
      "source": [
        "# Normalize by sutracting mean\n",
        "user_ratings_mean = np.mean(matrix, axis=1)\n",
        "matrix_norm = matrix - user_ratings_mean.reshape(-1, 1)"
      ],
      "metadata": {
        "id": "yCq-Oc3w9kuQ"
      },
      "execution_count": 32,
      "outputs": []
    },
    {
      "cell_type": "code",
      "source": [
        "# Perform SVD\n",
        "U, sigma, Vt = svds(matrix_norm, k=50) # Number of singular values and vectors to keep\n",
        "sigma = np.diag(sigma)"
      ],
      "metadata": {
        "id": "EIb_jJLA-bFf"
      },
      "execution_count": 33,
      "outputs": []
    },
    {
      "cell_type": "code",
      "source": [
        "# Reconstruct the matrix\n",
        "all_user_predicted_ratings = np.dot(np.dot(U, sigma), Vt) + user_ratings_mean.reshape(-1, 1)\n",
        "preds_df = pd.DataFrame(all_user_predicted_ratings, columns=user_movie_matrix.columns)"
      ],
      "metadata": {
        "id": "8tUmglxv-t_D"
      },
      "execution_count": 34,
      "outputs": []
    },
    {
      "cell_type": "code",
      "source": [
        "def recommend_movies(predictions_df, user_id, movies_df, original_ratings_df, num_recommendations=5):\n",
        "    # Get and sort the user's predictions\n",
        "    user_row_number = user_id - 1  # UserID starts at 1, not 0\n",
        "    sorted_user_predictions = predictions_df.iloc[user_row_number].sort_values(ascending=False)\n",
        "\n",
        "    # Get the user's data and merge in the movie information\n",
        "    user_data = original_ratings_df[original_ratings_df.userId == user_id]\n",
        "    user_full = user_data.merge(movies_df, how='left', on='movieId').sort_values(['rating'], ascending=False)\n",
        "\n",
        "    # Recommend the highest predicted rating movies that the user hasn't seen yet\n",
        "    recommendations = (movies_df[~movies_df['movieId'].isin(user_full['movieId'])].\n",
        "                       merge(pd.DataFrame(sorted_user_predictions).reset_index(), how='left',\n",
        "                             on='movieId').\n",
        "                       rename(columns={user_row_number: 'Predictions'}).\n",
        "                       sort_values('Predictions', ascending=False).\n",
        "                       iloc[:num_recommendations, :-1])\n",
        "\n",
        "    return user_full, recommendations\n",
        "\n",
        "# Example usage for user with userId 1\n",
        "already_rated, predictions = recommend_movies(preds_df, 1, movies, ratings, 10)\n",
        "print(predictions)\n"
      ],
      "metadata": {
        "colab": {
          "base_uri": "https://localhost:8080/"
        },
        "id": "fAE2ooTh-yGk",
        "outputId": "151c6648-5bd9-4985-d3fa-91b3dbbc5461"
      },
      "execution_count": 35,
      "outputs": [
        {
          "output_type": "stream",
          "name": "stdout",
          "text": [
            "      movieId                                              title  \\\n",
            "1141     1197                         Princess Bride, The (1987)   \n",
            "2404     2571                                 Matrix, The (1999)   \n",
            "1149     1210  Star Wars: Episode VI - Return of the Jedi (1983)   \n",
            "6610     6874                           Kill Bill: Vol. 1 (2003)   \n",
            "1076     1127                                  Abyss, The (1989)   \n",
            "1255     1339             Dracula (Bram Stoker's Dracula) (1992)   \n",
            "3593     3793                                       X-Men (2000)   \n",
            "1146     1206                         Clockwork Orange, A (1971)   \n",
            "8018     8874                           Shaun of the Dead (2004)   \n",
            "4664     4886                              Monsters, Inc. (2001)   \n",
            "\n",
            "                                           genres  \n",
            "1141      Action|Adventure|Comedy|Fantasy|Romance  \n",
            "2404                       Action|Sci-Fi|Thriller  \n",
            "1149                      Action|Adventure|Sci-Fi  \n",
            "6610                        Action|Crime|Thriller  \n",
            "1076             Action|Adventure|Sci-Fi|Thriller  \n",
            "1255              Fantasy|Horror|Romance|Thriller  \n",
            "3593                      Action|Adventure|Sci-Fi  \n",
            "1146                  Crime|Drama|Sci-Fi|Thriller  \n",
            "8018                                Comedy|Horror  \n",
            "4664  Adventure|Animation|Children|Comedy|Fantasy  \n"
          ]
        }
      ]
    },
    {
      "cell_type": "code",
      "source": [
        "# Find the most popular and liked genres\n",
        "genre_ratings = data.groupby('genres')['rating'].mean().sort_values(ascending=False)\n",
        "print(\"Most popular and liked genres:\\n\", genre_ratings.head())\n",
        "\n",
        "# Find the best and worst rated genres\n",
        "best_genres = genre_ratings.head()\n",
        "worst_genres = genre_ratings.tail()\n",
        "print(\"Best rated genres:\\n\", best_genres)\n",
        "print(\"Worst rated genres:\\n\", worst_genres)\n"
      ],
      "metadata": {
        "colab": {
          "base_uri": "https://localhost:8080/"
        },
        "id": "BsPVzD04-1kP",
        "outputId": "05125f0c-7574-4c3c-f973-9e484f7ef4a7"
      },
      "execution_count": 37,
      "outputs": [
        {
          "output_type": "stream",
          "name": "stdout",
          "text": [
            "Most popular and liked genres:\n",
            " genres\n",
            "Adventure|Comedy|Crime|Drama|Fantasy|Mystery|Sci-Fi|Thriller    5.0\n",
            "Animation|Crime|Mystery                                         5.0\n",
            "Comedy|Drama|Musical|Romance|War                                5.0\n",
            "Comedy|Crime|Western                                            5.0\n",
            "Crime|Film-Noir|Horror|Romance|Thriller                         5.0\n",
            "Name: rating, dtype: float64\n",
            "Best rated genres:\n",
            " genres\n",
            "Adventure|Comedy|Crime|Drama|Fantasy|Mystery|Sci-Fi|Thriller    5.0\n",
            "Animation|Crime|Mystery                                         5.0\n",
            "Comedy|Drama|Musical|Romance|War                                5.0\n",
            "Comedy|Crime|Western                                            5.0\n",
            "Crime|Film-Noir|Horror|Romance|Thriller                         5.0\n",
            "Name: rating, dtype: float64\n",
            "Worst rated genres:\n",
            " genres\n",
            "Documentary|Romance|War                    0.5\n",
            "Crime|Horror|Sci-Fi                        0.5\n",
            "Adventure|Drama|Horror                     0.5\n",
            "Action|Adventure|Horror|Sci-Fi|Thriller    0.5\n",
            "War|Western                                0.5\n",
            "Name: rating, dtype: float64\n"
          ]
        }
      ]
    }
  ]
}